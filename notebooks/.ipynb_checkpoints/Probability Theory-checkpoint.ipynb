{
 "cells": [
  {
   "cell_type": "code",
   "execution_count": 15,
   "id": "e781a615",
   "metadata": {},
   "outputs": [],
   "source": [
    "import pandas as pd\n",
    "import numpy as np\n",
    "from collections import Counter\n",
    "from mpl_toolkits.mplot3d import Axes3D\n",
    "import matplotlib.pyplot as plt\n",
    "import pandas as pd\n",
    "import seaborn as sns"
   ]
  },
  {
   "cell_type": "code",
   "execution_count": 16,
   "id": "78660382",
   "metadata": {},
   "outputs": [
    {
     "data": {
      "text/html": [
       "<div>\n",
       "<style scoped>\n",
       "    .dataframe tbody tr th:only-of-type {\n",
       "        vertical-align: middle;\n",
       "    }\n",
       "\n",
       "    .dataframe tbody tr th {\n",
       "        vertical-align: top;\n",
       "    }\n",
       "\n",
       "    .dataframe thead th {\n",
       "        text-align: right;\n",
       "    }\n",
       "</style>\n",
       "<table border=\"1\" class=\"dataframe\">\n",
       "  <thead>\n",
       "    <tr style=\"text-align: right;\">\n",
       "      <th></th>\n",
       "      <th>Event</th>\n",
       "      <th>P(X, Y)</th>\n",
       "      <th>X</th>\n",
       "      <th>Y</th>\n",
       "    </tr>\n",
       "  </thead>\n",
       "  <tbody>\n",
       "    <tr>\n",
       "      <th>1</th>\n",
       "      <td>(1, 1)</td>\n",
       "      <td>0.116</td>\n",
       "      <td>1</td>\n",
       "      <td>1</td>\n",
       "    </tr>\n",
       "    <tr>\n",
       "      <th>0</th>\n",
       "      <td>(1, 2)</td>\n",
       "      <td>0.141</td>\n",
       "      <td>1</td>\n",
       "      <td>2</td>\n",
       "    </tr>\n",
       "    <tr>\n",
       "      <th>6</th>\n",
       "      <td>(2, 1)</td>\n",
       "      <td>0.136</td>\n",
       "      <td>2</td>\n",
       "      <td>1</td>\n",
       "    </tr>\n",
       "    <tr>\n",
       "      <th>2</th>\n",
       "      <td>(2, 2)</td>\n",
       "      <td>0.129</td>\n",
       "      <td>2</td>\n",
       "      <td>2</td>\n",
       "    </tr>\n",
       "    <tr>\n",
       "      <th>4</th>\n",
       "      <td>(3, 1)</td>\n",
       "      <td>0.124</td>\n",
       "      <td>3</td>\n",
       "      <td>1</td>\n",
       "    </tr>\n",
       "    <tr>\n",
       "      <th>3</th>\n",
       "      <td>(3, 2)</td>\n",
       "      <td>0.120</td>\n",
       "      <td>3</td>\n",
       "      <td>2</td>\n",
       "    </tr>\n",
       "    <tr>\n",
       "      <th>7</th>\n",
       "      <td>(4, 1)</td>\n",
       "      <td>0.120</td>\n",
       "      <td>4</td>\n",
       "      <td>1</td>\n",
       "    </tr>\n",
       "    <tr>\n",
       "      <th>5</th>\n",
       "      <td>(4, 2)</td>\n",
       "      <td>0.114</td>\n",
       "      <td>4</td>\n",
       "      <td>2</td>\n",
       "    </tr>\n",
       "  </tbody>\n",
       "</table>\n",
       "</div>"
      ],
      "text/plain": [
       "    Event  P(X, Y)  X  Y\n",
       "1  (1, 1)    0.116  1  1\n",
       "0  (1, 2)    0.141  1  2\n",
       "6  (2, 1)    0.136  2  1\n",
       "2  (2, 2)    0.129  2  2\n",
       "4  (3, 1)    0.124  3  1\n",
       "3  (3, 2)    0.120  3  2\n",
       "7  (4, 1)    0.120  4  1\n",
       "5  (4, 2)    0.114  4  2"
      ]
     },
     "execution_count": 16,
     "metadata": {},
     "output_type": "execute_result"
    }
   ],
   "source": [
    "# Take 1000 samples\n",
    "xs = [np.random.randint(1, 5) for _ in range(1000)]\n",
    "ys = [np.random.randint(1, 3) for _ in range(1000)]\n",
    "# Count the (x, y) pairs and convert them to a dataframe\n",
    "joint_dist_df = pd.DataFrame.from_dict(Counter(zip(xs, ys)), orient=\"index\").reset_index()\n",
    "joint_dist_df.columns = [\"Event\", \"P(X, Y)\"]\n",
    "joint_dist_df[\"X\"] = [e[0] for e in joint_dist_df[\"Event\"]]\n",
    "joint_dist_df[\"Y\"] = [e[1] for e in joint_dist_df[\"Event\"]]\n",
    "# Compute the joint probability\n",
    "joint_dist_df[\"P(X, Y)\"] /= joint_dist_df[\"P(X, Y)\"].sum()\n",
    "joint_dist_df.sort_values(['X', 'Y'])"
   ]
  },
  {
   "cell_type": "code",
   "execution_count": 6,
   "id": "10834a24",
   "metadata": {},
   "outputs": [
    {
     "data": {
      "text/html": [
       "<div>\n",
       "<style scoped>\n",
       "    .dataframe tbody tr th:only-of-type {\n",
       "        vertical-align: middle;\n",
       "    }\n",
       "\n",
       "    .dataframe tbody tr th {\n",
       "        vertical-align: top;\n",
       "    }\n",
       "\n",
       "    .dataframe thead th {\n",
       "        text-align: right;\n",
       "    }\n",
       "</style>\n",
       "<table border=\"1\" class=\"dataframe\">\n",
       "  <thead>\n",
       "    <tr style=\"text-align: right;\">\n",
       "      <th></th>\n",
       "      <th>X</th>\n",
       "      <th>P(X)</th>\n",
       "    </tr>\n",
       "  </thead>\n",
       "  <tbody>\n",
       "    <tr>\n",
       "      <th>0</th>\n",
       "      <td>1</td>\n",
       "      <td>0.236</td>\n",
       "    </tr>\n",
       "    <tr>\n",
       "      <th>1</th>\n",
       "      <td>2</td>\n",
       "      <td>0.247</td>\n",
       "    </tr>\n",
       "    <tr>\n",
       "      <th>2</th>\n",
       "      <td>3</td>\n",
       "      <td>0.270</td>\n",
       "    </tr>\n",
       "    <tr>\n",
       "      <th>3</th>\n",
       "      <td>4</td>\n",
       "      <td>0.247</td>\n",
       "    </tr>\n",
       "  </tbody>\n",
       "</table>\n",
       "</div>"
      ],
      "text/plain": [
       "   X   P(X)\n",
       "0  1  0.236\n",
       "1  2  0.247\n",
       "2  3  0.270\n",
       "3  4  0.247"
      ]
     },
     "execution_count": 6,
     "metadata": {},
     "output_type": "execute_result"
    }
   ],
   "source": [
    "marginal_x_dist_df = joint_dist_df.groupby(\"X\")[\"P(X, Y)\"].sum().reset_index()\n",
    "marginal_x_dist_df.columns = [\"X\", \"P(X)\"]\n",
    "marginal_x_dist_df.sort_values(['X'])"
   ]
  },
  {
   "cell_type": "code",
   "execution_count": 7,
   "id": "edd8f5a7",
   "metadata": {},
   "outputs": [
    {
     "data": {
      "text/html": [
       "<div>\n",
       "<style scoped>\n",
       "    .dataframe tbody tr th:only-of-type {\n",
       "        vertical-align: middle;\n",
       "    }\n",
       "\n",
       "    .dataframe tbody tr th {\n",
       "        vertical-align: top;\n",
       "    }\n",
       "\n",
       "    .dataframe thead th {\n",
       "        text-align: right;\n",
       "    }\n",
       "</style>\n",
       "<table border=\"1\" class=\"dataframe\">\n",
       "  <thead>\n",
       "    <tr style=\"text-align: right;\">\n",
       "      <th></th>\n",
       "      <th>Y</th>\n",
       "      <th>P(Y)</th>\n",
       "    </tr>\n",
       "  </thead>\n",
       "  <tbody>\n",
       "    <tr>\n",
       "      <th>0</th>\n",
       "      <td>1</td>\n",
       "      <td>0.491</td>\n",
       "    </tr>\n",
       "    <tr>\n",
       "      <th>1</th>\n",
       "      <td>2</td>\n",
       "      <td>0.509</td>\n",
       "    </tr>\n",
       "  </tbody>\n",
       "</table>\n",
       "</div>"
      ],
      "text/plain": [
       "   Y   P(Y)\n",
       "0  1  0.491\n",
       "1  2  0.509"
      ]
     },
     "execution_count": 7,
     "metadata": {},
     "output_type": "execute_result"
    }
   ],
   "source": [
    "marginal_y_dist_df = joint_dist_df.groupby(\"Y\")[\"P(X, Y)\"].sum().reset_index()\n",
    "marginal_y_dist_df.columns = [\"Y\", \"P(Y)\"]\n",
    "marginal_y_dist_df.sort_values(['Y'])"
   ]
  },
  {
   "cell_type": "code",
   "execution_count": 8,
   "id": "b4e103bf",
   "metadata": {},
   "outputs": [
    {
     "name": "stdout",
     "output_type": "stream",
     "text": [
      "For x_i = 1\n"
     ]
    },
    {
     "data": {
      "text/html": [
       "<div>\n",
       "<style scoped>\n",
       "    .dataframe tbody tr th:only-of-type {\n",
       "        vertical-align: middle;\n",
       "    }\n",
       "\n",
       "    .dataframe tbody tr th {\n",
       "        vertical-align: top;\n",
       "    }\n",
       "\n",
       "    .dataframe thead th {\n",
       "        text-align: right;\n",
       "    }\n",
       "</style>\n",
       "<table border=\"1\" class=\"dataframe\">\n",
       "  <thead>\n",
       "    <tr style=\"text-align: right;\">\n",
       "      <th></th>\n",
       "      <th>Event</th>\n",
       "      <th>P(X, Y)</th>\n",
       "      <th>X</th>\n",
       "      <th>Y</th>\n",
       "      <th>P(X)</th>\n",
       "      <th>P(Y|X)</th>\n",
       "    </tr>\n",
       "  </thead>\n",
       "  <tbody>\n",
       "    <tr>\n",
       "      <th>0</th>\n",
       "      <td>(1, 1)</td>\n",
       "      <td>0.118</td>\n",
       "      <td>1</td>\n",
       "      <td>1</td>\n",
       "      <td>0.236</td>\n",
       "      <td>0.5</td>\n",
       "    </tr>\n",
       "    <tr>\n",
       "      <th>1</th>\n",
       "      <td>(1, 2)</td>\n",
       "      <td>0.118</td>\n",
       "      <td>1</td>\n",
       "      <td>2</td>\n",
       "      <td>0.236</td>\n",
       "      <td>0.5</td>\n",
       "    </tr>\n",
       "  </tbody>\n",
       "</table>\n",
       "</div>"
      ],
      "text/plain": [
       "    Event  P(X, Y)  X  Y   P(X)  P(Y|X)\n",
       "0  (1, 1)    0.118  1  1  0.236     0.5\n",
       "1  (1, 2)    0.118  1  2  0.236     0.5"
      ]
     },
     "metadata": {},
     "output_type": "display_data"
    },
    {
     "name": "stdout",
     "output_type": "stream",
     "text": [
      "For x_i = 2\n"
     ]
    },
    {
     "data": {
      "text/html": [
       "<div>\n",
       "<style scoped>\n",
       "    .dataframe tbody tr th:only-of-type {\n",
       "        vertical-align: middle;\n",
       "    }\n",
       "\n",
       "    .dataframe tbody tr th {\n",
       "        vertical-align: top;\n",
       "    }\n",
       "\n",
       "    .dataframe thead th {\n",
       "        text-align: right;\n",
       "    }\n",
       "</style>\n",
       "<table border=\"1\" class=\"dataframe\">\n",
       "  <thead>\n",
       "    <tr style=\"text-align: right;\">\n",
       "      <th></th>\n",
       "      <th>Event</th>\n",
       "      <th>P(X, Y)</th>\n",
       "      <th>X</th>\n",
       "      <th>Y</th>\n",
       "      <th>P(X)</th>\n",
       "      <th>P(Y|X)</th>\n",
       "    </tr>\n",
       "  </thead>\n",
       "  <tbody>\n",
       "    <tr>\n",
       "      <th>1</th>\n",
       "      <td>(2, 1)</td>\n",
       "      <td>0.118</td>\n",
       "      <td>2</td>\n",
       "      <td>1</td>\n",
       "      <td>0.247</td>\n",
       "      <td>0.477733</td>\n",
       "    </tr>\n",
       "    <tr>\n",
       "      <th>0</th>\n",
       "      <td>(2, 2)</td>\n",
       "      <td>0.129</td>\n",
       "      <td>2</td>\n",
       "      <td>2</td>\n",
       "      <td>0.247</td>\n",
       "      <td>0.522267</td>\n",
       "    </tr>\n",
       "  </tbody>\n",
       "</table>\n",
       "</div>"
      ],
      "text/plain": [
       "    Event  P(X, Y)  X  Y   P(X)    P(Y|X)\n",
       "1  (2, 1)    0.118  2  1  0.247  0.477733\n",
       "0  (2, 2)    0.129  2  2  0.247  0.522267"
      ]
     },
     "metadata": {},
     "output_type": "display_data"
    },
    {
     "name": "stdout",
     "output_type": "stream",
     "text": [
      "For x_i = 3\n"
     ]
    },
    {
     "data": {
      "text/html": [
       "<div>\n",
       "<style scoped>\n",
       "    .dataframe tbody tr th:only-of-type {\n",
       "        vertical-align: middle;\n",
       "    }\n",
       "\n",
       "    .dataframe tbody tr th {\n",
       "        vertical-align: top;\n",
       "    }\n",
       "\n",
       "    .dataframe thead th {\n",
       "        text-align: right;\n",
       "    }\n",
       "</style>\n",
       "<table border=\"1\" class=\"dataframe\">\n",
       "  <thead>\n",
       "    <tr style=\"text-align: right;\">\n",
       "      <th></th>\n",
       "      <th>Event</th>\n",
       "      <th>P(X, Y)</th>\n",
       "      <th>X</th>\n",
       "      <th>Y</th>\n",
       "      <th>P(X)</th>\n",
       "      <th>P(Y|X)</th>\n",
       "    </tr>\n",
       "  </thead>\n",
       "  <tbody>\n",
       "    <tr>\n",
       "      <th>0</th>\n",
       "      <td>(3, 1)</td>\n",
       "      <td>0.126</td>\n",
       "      <td>3</td>\n",
       "      <td>1</td>\n",
       "      <td>0.27</td>\n",
       "      <td>0.466667</td>\n",
       "    </tr>\n",
       "    <tr>\n",
       "      <th>1</th>\n",
       "      <td>(3, 2)</td>\n",
       "      <td>0.144</td>\n",
       "      <td>3</td>\n",
       "      <td>2</td>\n",
       "      <td>0.27</td>\n",
       "      <td>0.533333</td>\n",
       "    </tr>\n",
       "  </tbody>\n",
       "</table>\n",
       "</div>"
      ],
      "text/plain": [
       "    Event  P(X, Y)  X  Y  P(X)    P(Y|X)\n",
       "0  (3, 1)    0.126  3  1  0.27  0.466667\n",
       "1  (3, 2)    0.144  3  2  0.27  0.533333"
      ]
     },
     "metadata": {},
     "output_type": "display_data"
    },
    {
     "name": "stdout",
     "output_type": "stream",
     "text": [
      "For x_i = 4\n"
     ]
    },
    {
     "data": {
      "text/html": [
       "<div>\n",
       "<style scoped>\n",
       "    .dataframe tbody tr th:only-of-type {\n",
       "        vertical-align: middle;\n",
       "    }\n",
       "\n",
       "    .dataframe tbody tr th {\n",
       "        vertical-align: top;\n",
       "    }\n",
       "\n",
       "    .dataframe thead th {\n",
       "        text-align: right;\n",
       "    }\n",
       "</style>\n",
       "<table border=\"1\" class=\"dataframe\">\n",
       "  <thead>\n",
       "    <tr style=\"text-align: right;\">\n",
       "      <th></th>\n",
       "      <th>Event</th>\n",
       "      <th>P(X, Y)</th>\n",
       "      <th>X</th>\n",
       "      <th>Y</th>\n",
       "      <th>P(X)</th>\n",
       "      <th>P(Y|X)</th>\n",
       "    </tr>\n",
       "  </thead>\n",
       "  <tbody>\n",
       "    <tr>\n",
       "      <th>0</th>\n",
       "      <td>(4, 1)</td>\n",
       "      <td>0.129</td>\n",
       "      <td>4</td>\n",
       "      <td>1</td>\n",
       "      <td>0.247</td>\n",
       "      <td>0.522267</td>\n",
       "    </tr>\n",
       "    <tr>\n",
       "      <th>1</th>\n",
       "      <td>(4, 2)</td>\n",
       "      <td>0.118</td>\n",
       "      <td>4</td>\n",
       "      <td>2</td>\n",
       "      <td>0.247</td>\n",
       "      <td>0.477733</td>\n",
       "    </tr>\n",
       "  </tbody>\n",
       "</table>\n",
       "</div>"
      ],
      "text/plain": [
       "    Event  P(X, Y)  X  Y   P(X)    P(Y|X)\n",
       "0  (4, 1)    0.129  4  1  0.247  0.522267\n",
       "1  (4, 2)    0.118  4  2  0.247  0.477733"
      ]
     },
     "metadata": {},
     "output_type": "display_data"
    }
   ],
   "source": [
    "for x_i in range(1, 5):\n",
    "    print(\"For x_i =\", x_i)\n",
    "    _df = joint_dist_df[joint_dist_df[\"X\"]==x_i].copy()\n",
    "    _df = pd.merge(_df, marginal_x_dist_df, how=\"left\", on=\"X\")\n",
    "    _sum = _df[\"P(X, Y)\"].sum()\n",
    "    _df[\"P(Y|X)\"] = _df[\"P(X, Y)\"] / _sum\n",
    "    _df = _df.sort_values(['X', 'Y'])\n",
    "    display(_df)"
   ]
  },
  {
   "cell_type": "code",
   "execution_count": 27,
   "id": "5a5942a4",
   "metadata": {},
   "outputs": [
    {
     "data": {
      "text/plain": [
       "(array([0.81175444]), array([0.36760206]))"
      ]
     },
     "execution_count": 27,
     "metadata": {},
     "output_type": "execute_result"
    }
   ],
   "source": [
    "from sklearn.feature_selection import chi2\n",
    "# The null hypothesis is that they are independent.\n",
    "# P <= 0.05: Reject the null hypothesis.\n",
    "# P > 0.05: Accept the null hypothesis.\n",
    "chi2(np.array(xs).reshape(-1, 1), np.array(ys).reshape(-1, 1))"
   ]
  },
  {
   "cell_type": "code",
   "execution_count": null,
   "id": "0f51a96e",
   "metadata": {},
   "outputs": [],
   "source": []
  }
 ],
 "metadata": {
  "kernelspec": {
   "display_name": "Python 3 (ipykernel)",
   "language": "python",
   "name": "python3"
  },
  "language_info": {
   "codemirror_mode": {
    "name": "ipython",
    "version": 3
   },
   "file_extension": ".py",
   "mimetype": "text/x-python",
   "name": "python",
   "nbconvert_exporter": "python",
   "pygments_lexer": "ipython3",
   "version": "3.8.12"
  }
 },
 "nbformat": 4,
 "nbformat_minor": 5
}
