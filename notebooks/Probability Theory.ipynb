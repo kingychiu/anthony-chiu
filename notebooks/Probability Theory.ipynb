{
 "cells": [
  {
   "cell_type": "code",
   "execution_count": 1,
   "id": "4c95bef5",
   "metadata": {},
   "outputs": [],
   "source": [
    "import pandas as pd\n",
    "import numpy as np\n",
    "from collections import Counter\n",
    "from mpl_toolkits.mplot3d import Axes3D\n",
    "import matplotlib.pyplot as plt\n",
    "import pandas as pd\n",
    "import seaborn as sns"
   ]
  },
  {
   "cell_type": "code",
   "execution_count": 2,
   "id": "78660382",
   "metadata": {},
   "outputs": [
    {
     "data": {
      "text/html": [
       "<div>\n",
       "<style scoped>\n",
       "    .dataframe tbody tr th:only-of-type {\n",
       "        vertical-align: middle;\n",
       "    }\n",
       "\n",
       "    .dataframe tbody tr th {\n",
       "        vertical-align: top;\n",
       "    }\n",
       "\n",
       "    .dataframe thead th {\n",
       "        text-align: right;\n",
       "    }\n",
       "</style>\n",
       "<table border=\"1\" class=\"dataframe\">\n",
       "  <thead>\n",
       "    <tr style=\"text-align: right;\">\n",
       "      <th></th>\n",
       "      <th>Event</th>\n",
       "      <th>P(X, Y)</th>\n",
       "      <th>X</th>\n",
       "      <th>Y</th>\n",
       "    </tr>\n",
       "  </thead>\n",
       "  <tbody>\n",
       "    <tr>\n",
       "      <th>3</th>\n",
       "      <td>(1, 1)</td>\n",
       "      <td>0.121</td>\n",
       "      <td>1</td>\n",
       "      <td>1</td>\n",
       "    </tr>\n",
       "    <tr>\n",
       "      <th>6</th>\n",
       "      <td>(1, 2)</td>\n",
       "      <td>0.123</td>\n",
       "      <td>1</td>\n",
       "      <td>2</td>\n",
       "    </tr>\n",
       "    <tr>\n",
       "      <th>2</th>\n",
       "      <td>(2, 1)</td>\n",
       "      <td>0.126</td>\n",
       "      <td>2</td>\n",
       "      <td>1</td>\n",
       "    </tr>\n",
       "    <tr>\n",
       "      <th>7</th>\n",
       "      <td>(2, 2)</td>\n",
       "      <td>0.132</td>\n",
       "      <td>2</td>\n",
       "      <td>2</td>\n",
       "    </tr>\n",
       "    <tr>\n",
       "      <th>1</th>\n",
       "      <td>(3, 1)</td>\n",
       "      <td>0.134</td>\n",
       "      <td>3</td>\n",
       "      <td>1</td>\n",
       "    </tr>\n",
       "    <tr>\n",
       "      <th>5</th>\n",
       "      <td>(3, 2)</td>\n",
       "      <td>0.121</td>\n",
       "      <td>3</td>\n",
       "      <td>2</td>\n",
       "    </tr>\n",
       "    <tr>\n",
       "      <th>0</th>\n",
       "      <td>(4, 1)</td>\n",
       "      <td>0.133</td>\n",
       "      <td>4</td>\n",
       "      <td>1</td>\n",
       "    </tr>\n",
       "    <tr>\n",
       "      <th>4</th>\n",
       "      <td>(4, 2)</td>\n",
       "      <td>0.110</td>\n",
       "      <td>4</td>\n",
       "      <td>2</td>\n",
       "    </tr>\n",
       "  </tbody>\n",
       "</table>\n",
       "</div>"
      ],
      "text/plain": [
       "    Event  P(X, Y)  X  Y\n",
       "3  (1, 1)    0.121  1  1\n",
       "6  (1, 2)    0.123  1  2\n",
       "2  (2, 1)    0.126  2  1\n",
       "7  (2, 2)    0.132  2  2\n",
       "1  (3, 1)    0.134  3  1\n",
       "5  (3, 2)    0.121  3  2\n",
       "0  (4, 1)    0.133  4  1\n",
       "4  (4, 2)    0.110  4  2"
      ]
     },
     "execution_count": 2,
     "metadata": {},
     "output_type": "execute_result"
    }
   ],
   "source": [
    "# Take 1000 samples\n",
    "xs = [np.random.randint(1, 5) for _ in range(1000)]\n",
    "ys = [np.random.randint(1, 3) for _ in range(1000)]\n",
    "# Count the (x, y) pairs and convert them to a dataframe\n",
    "joint_dist_df = pd.DataFrame.from_dict(Counter(zip(xs, ys)), orient=\"index\").reset_index()\n",
    "joint_dist_df.columns = [\"Event\", \"P(X, Y)\"]\n",
    "joint_dist_df[\"X\"] = [e[0] for e in joint_dist_df[\"Event\"]]\n",
    "joint_dist_df[\"Y\"] = [e[1] for e in joint_dist_df[\"Event\"]]\n",
    "# Compute the joint probability\n",
    "joint_dist_df[\"P(X, Y)\"] /= joint_dist_df[\"P(X, Y)\"].sum()\n",
    "joint_dist_df.sort_values(['X', 'Y'])"
   ]
  },
  {
   "cell_type": "code",
   "execution_count": 3,
   "id": "49c70188",
   "metadata": {},
   "outputs": [
    {
     "data": {
      "text/html": [
       "<div>\n",
       "<style scoped>\n",
       "    .dataframe tbody tr th:only-of-type {\n",
       "        vertical-align: middle;\n",
       "    }\n",
       "\n",
       "    .dataframe tbody tr th {\n",
       "        vertical-align: top;\n",
       "    }\n",
       "\n",
       "    .dataframe thead th {\n",
       "        text-align: right;\n",
       "    }\n",
       "</style>\n",
       "<table border=\"1\" class=\"dataframe\">\n",
       "  <thead>\n",
       "    <tr style=\"text-align: right;\">\n",
       "      <th></th>\n",
       "      <th>X</th>\n",
       "      <th>P(X)</th>\n",
       "    </tr>\n",
       "  </thead>\n",
       "  <tbody>\n",
       "    <tr>\n",
       "      <th>0</th>\n",
       "      <td>1</td>\n",
       "      <td>0.244</td>\n",
       "    </tr>\n",
       "    <tr>\n",
       "      <th>1</th>\n",
       "      <td>2</td>\n",
       "      <td>0.258</td>\n",
       "    </tr>\n",
       "    <tr>\n",
       "      <th>2</th>\n",
       "      <td>3</td>\n",
       "      <td>0.255</td>\n",
       "    </tr>\n",
       "    <tr>\n",
       "      <th>3</th>\n",
       "      <td>4</td>\n",
       "      <td>0.243</td>\n",
       "    </tr>\n",
       "  </tbody>\n",
       "</table>\n",
       "</div>"
      ],
      "text/plain": [
       "   X   P(X)\n",
       "0  1  0.244\n",
       "1  2  0.258\n",
       "2  3  0.255\n",
       "3  4  0.243"
      ]
     },
     "execution_count": 3,
     "metadata": {},
     "output_type": "execute_result"
    }
   ],
   "source": [
    "marginal_x_dist_df = joint_dist_df.groupby(\"X\")[\"P(X, Y)\"].sum().reset_index()\n",
    "marginal_x_dist_df.columns = [\"X\", \"P(X)\"]\n",
    "marginal_x_dist_df.sort_values(['X'])"
   ]
  },
  {
   "cell_type": "code",
   "execution_count": 4,
   "id": "35a044f3",
   "metadata": {},
   "outputs": [
    {
     "data": {
      "text/html": [
       "<div>\n",
       "<style scoped>\n",
       "    .dataframe tbody tr th:only-of-type {\n",
       "        vertical-align: middle;\n",
       "    }\n",
       "\n",
       "    .dataframe tbody tr th {\n",
       "        vertical-align: top;\n",
       "    }\n",
       "\n",
       "    .dataframe thead th {\n",
       "        text-align: right;\n",
       "    }\n",
       "</style>\n",
       "<table border=\"1\" class=\"dataframe\">\n",
       "  <thead>\n",
       "    <tr style=\"text-align: right;\">\n",
       "      <th></th>\n",
       "      <th>Y</th>\n",
       "      <th>P(Y)</th>\n",
       "    </tr>\n",
       "  </thead>\n",
       "  <tbody>\n",
       "    <tr>\n",
       "      <th>0</th>\n",
       "      <td>1</td>\n",
       "      <td>0.514</td>\n",
       "    </tr>\n",
       "    <tr>\n",
       "      <th>1</th>\n",
       "      <td>2</td>\n",
       "      <td>0.486</td>\n",
       "    </tr>\n",
       "  </tbody>\n",
       "</table>\n",
       "</div>"
      ],
      "text/plain": [
       "   Y   P(Y)\n",
       "0  1  0.514\n",
       "1  2  0.486"
      ]
     },
     "execution_count": 4,
     "metadata": {},
     "output_type": "execute_result"
    }
   ],
   "source": [
    "marginal_y_dist_df = joint_dist_df.groupby(\"Y\")[\"P(X, Y)\"].sum().reset_index()\n",
    "marginal_y_dist_df.columns = [\"Y\", \"P(Y)\"]\n",
    "marginal_y_dist_df.sort_values(['Y'])"
   ]
  },
  {
   "cell_type": "code",
   "execution_count": 5,
   "id": "e84be264",
   "metadata": {},
   "outputs": [
    {
     "name": "stdout",
     "output_type": "stream",
     "text": [
      "For x_i = 1\n"
     ]
    },
    {
     "data": {
      "text/html": [
       "<div>\n",
       "<style scoped>\n",
       "    .dataframe tbody tr th:only-of-type {\n",
       "        vertical-align: middle;\n",
       "    }\n",
       "\n",
       "    .dataframe tbody tr th {\n",
       "        vertical-align: top;\n",
       "    }\n",
       "\n",
       "    .dataframe thead th {\n",
       "        text-align: right;\n",
       "    }\n",
       "</style>\n",
       "<table border=\"1\" class=\"dataframe\">\n",
       "  <thead>\n",
       "    <tr style=\"text-align: right;\">\n",
       "      <th></th>\n",
       "      <th>Event</th>\n",
       "      <th>P(X, Y)</th>\n",
       "      <th>X</th>\n",
       "      <th>Y</th>\n",
       "      <th>P(X)</th>\n",
       "      <th>P(Y|X)</th>\n",
       "    </tr>\n",
       "  </thead>\n",
       "  <tbody>\n",
       "    <tr>\n",
       "      <th>0</th>\n",
       "      <td>(1, 1)</td>\n",
       "      <td>0.121</td>\n",
       "      <td>1</td>\n",
       "      <td>1</td>\n",
       "      <td>0.244</td>\n",
       "      <td>0.495902</td>\n",
       "    </tr>\n",
       "    <tr>\n",
       "      <th>1</th>\n",
       "      <td>(1, 2)</td>\n",
       "      <td>0.123</td>\n",
       "      <td>1</td>\n",
       "      <td>2</td>\n",
       "      <td>0.244</td>\n",
       "      <td>0.504098</td>\n",
       "    </tr>\n",
       "  </tbody>\n",
       "</table>\n",
       "</div>"
      ],
      "text/plain": [
       "    Event  P(X, Y)  X  Y   P(X)    P(Y|X)\n",
       "0  (1, 1)    0.121  1  1  0.244  0.495902\n",
       "1  (1, 2)    0.123  1  2  0.244  0.504098"
      ]
     },
     "metadata": {},
     "output_type": "display_data"
    },
    {
     "name": "stdout",
     "output_type": "stream",
     "text": [
      "For x_i = 2\n"
     ]
    },
    {
     "data": {
      "text/html": [
       "<div>\n",
       "<style scoped>\n",
       "    .dataframe tbody tr th:only-of-type {\n",
       "        vertical-align: middle;\n",
       "    }\n",
       "\n",
       "    .dataframe tbody tr th {\n",
       "        vertical-align: top;\n",
       "    }\n",
       "\n",
       "    .dataframe thead th {\n",
       "        text-align: right;\n",
       "    }\n",
       "</style>\n",
       "<table border=\"1\" class=\"dataframe\">\n",
       "  <thead>\n",
       "    <tr style=\"text-align: right;\">\n",
       "      <th></th>\n",
       "      <th>Event</th>\n",
       "      <th>P(X, Y)</th>\n",
       "      <th>X</th>\n",
       "      <th>Y</th>\n",
       "      <th>P(X)</th>\n",
       "      <th>P(Y|X)</th>\n",
       "    </tr>\n",
       "  </thead>\n",
       "  <tbody>\n",
       "    <tr>\n",
       "      <th>0</th>\n",
       "      <td>(2, 1)</td>\n",
       "      <td>0.126</td>\n",
       "      <td>2</td>\n",
       "      <td>1</td>\n",
       "      <td>0.258</td>\n",
       "      <td>0.488372</td>\n",
       "    </tr>\n",
       "    <tr>\n",
       "      <th>1</th>\n",
       "      <td>(2, 2)</td>\n",
       "      <td>0.132</td>\n",
       "      <td>2</td>\n",
       "      <td>2</td>\n",
       "      <td>0.258</td>\n",
       "      <td>0.511628</td>\n",
       "    </tr>\n",
       "  </tbody>\n",
       "</table>\n",
       "</div>"
      ],
      "text/plain": [
       "    Event  P(X, Y)  X  Y   P(X)    P(Y|X)\n",
       "0  (2, 1)    0.126  2  1  0.258  0.488372\n",
       "1  (2, 2)    0.132  2  2  0.258  0.511628"
      ]
     },
     "metadata": {},
     "output_type": "display_data"
    },
    {
     "name": "stdout",
     "output_type": "stream",
     "text": [
      "For x_i = 3\n"
     ]
    },
    {
     "data": {
      "text/html": [
       "<div>\n",
       "<style scoped>\n",
       "    .dataframe tbody tr th:only-of-type {\n",
       "        vertical-align: middle;\n",
       "    }\n",
       "\n",
       "    .dataframe tbody tr th {\n",
       "        vertical-align: top;\n",
       "    }\n",
       "\n",
       "    .dataframe thead th {\n",
       "        text-align: right;\n",
       "    }\n",
       "</style>\n",
       "<table border=\"1\" class=\"dataframe\">\n",
       "  <thead>\n",
       "    <tr style=\"text-align: right;\">\n",
       "      <th></th>\n",
       "      <th>Event</th>\n",
       "      <th>P(X, Y)</th>\n",
       "      <th>X</th>\n",
       "      <th>Y</th>\n",
       "      <th>P(X)</th>\n",
       "      <th>P(Y|X)</th>\n",
       "    </tr>\n",
       "  </thead>\n",
       "  <tbody>\n",
       "    <tr>\n",
       "      <th>0</th>\n",
       "      <td>(3, 1)</td>\n",
       "      <td>0.134</td>\n",
       "      <td>3</td>\n",
       "      <td>1</td>\n",
       "      <td>0.255</td>\n",
       "      <td>0.52549</td>\n",
       "    </tr>\n",
       "    <tr>\n",
       "      <th>1</th>\n",
       "      <td>(3, 2)</td>\n",
       "      <td>0.121</td>\n",
       "      <td>3</td>\n",
       "      <td>2</td>\n",
       "      <td>0.255</td>\n",
       "      <td>0.47451</td>\n",
       "    </tr>\n",
       "  </tbody>\n",
       "</table>\n",
       "</div>"
      ],
      "text/plain": [
       "    Event  P(X, Y)  X  Y   P(X)   P(Y|X)\n",
       "0  (3, 1)    0.134  3  1  0.255  0.52549\n",
       "1  (3, 2)    0.121  3  2  0.255  0.47451"
      ]
     },
     "metadata": {},
     "output_type": "display_data"
    },
    {
     "name": "stdout",
     "output_type": "stream",
     "text": [
      "For x_i = 4\n"
     ]
    },
    {
     "data": {
      "text/html": [
       "<div>\n",
       "<style scoped>\n",
       "    .dataframe tbody tr th:only-of-type {\n",
       "        vertical-align: middle;\n",
       "    }\n",
       "\n",
       "    .dataframe tbody tr th {\n",
       "        vertical-align: top;\n",
       "    }\n",
       "\n",
       "    .dataframe thead th {\n",
       "        text-align: right;\n",
       "    }\n",
       "</style>\n",
       "<table border=\"1\" class=\"dataframe\">\n",
       "  <thead>\n",
       "    <tr style=\"text-align: right;\">\n",
       "      <th></th>\n",
       "      <th>Event</th>\n",
       "      <th>P(X, Y)</th>\n",
       "      <th>X</th>\n",
       "      <th>Y</th>\n",
       "      <th>P(X)</th>\n",
       "      <th>P(Y|X)</th>\n",
       "    </tr>\n",
       "  </thead>\n",
       "  <tbody>\n",
       "    <tr>\n",
       "      <th>0</th>\n",
       "      <td>(4, 1)</td>\n",
       "      <td>0.133</td>\n",
       "      <td>4</td>\n",
       "      <td>1</td>\n",
       "      <td>0.243</td>\n",
       "      <td>0.547325</td>\n",
       "    </tr>\n",
       "    <tr>\n",
       "      <th>1</th>\n",
       "      <td>(4, 2)</td>\n",
       "      <td>0.110</td>\n",
       "      <td>4</td>\n",
       "      <td>2</td>\n",
       "      <td>0.243</td>\n",
       "      <td>0.452675</td>\n",
       "    </tr>\n",
       "  </tbody>\n",
       "</table>\n",
       "</div>"
      ],
      "text/plain": [
       "    Event  P(X, Y)  X  Y   P(X)    P(Y|X)\n",
       "0  (4, 1)    0.133  4  1  0.243  0.547325\n",
       "1  (4, 2)    0.110  4  2  0.243  0.452675"
      ]
     },
     "metadata": {},
     "output_type": "display_data"
    }
   ],
   "source": [
    "for x_i in range(1, 5):\n",
    "    print(\"For x_i =\", x_i)\n",
    "    _df = joint_dist_df[joint_dist_df[\"X\"]==x_i].copy()\n",
    "    _df = pd.merge(_df, marginal_x_dist_df, how=\"left\", on=\"X\")\n",
    "    _sum = _df[\"P(X, Y)\"].sum()\n",
    "    _df[\"P(Y|X)\"] = _df[\"P(X, Y)\"] / _sum\n",
    "    _df = _df.sort_values(['X', 'Y'])\n",
    "    display(_df)"
   ]
  },
  {
   "cell_type": "code",
   "execution_count": 6,
   "id": "88daad65",
   "metadata": {},
   "outputs": [
    {
     "data": {
      "text/plain": [
       "(array([0.88852322]), array([0.34587782]))"
      ]
     },
     "execution_count": 6,
     "metadata": {},
     "output_type": "execute_result"
    }
   ],
   "source": [
    "from sklearn.feature_selection import chi2\n",
    "# The null hypothesis is that they are independent.\n",
    "# P <= 0.05: Reject the null hypothesis.\n",
    "# P > 0.05: Accept the null hypothesis.\n",
    "chi2(np.array(xs).reshape(-1, 1), np.array(ys).reshape(-1, 1))"
   ]
  },
  {
   "cell_type": "code",
   "execution_count": null,
   "id": "fe4649ce",
   "metadata": {},
   "outputs": [],
   "source": []
  }
 ],
 "metadata": {
  "kernelspec": {
   "display_name": "Python 3 (ipykernel)",
   "language": "python",
   "name": "python3"
  },
  "language_info": {
   "codemirror_mode": {
    "name": "ipython",
    "version": 3
   },
   "file_extension": ".py",
   "mimetype": "text/x-python",
   "name": "python",
   "nbconvert_exporter": "python",
   "pygments_lexer": "ipython3",
   "version": "3.8.12"
  }
 },
 "nbformat": 4,
 "nbformat_minor": 5
}
